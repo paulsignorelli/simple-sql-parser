{
 "cells": [
  {
   "cell_type": "code",
   "execution_count": 0,
   "metadata": {
    "application/vnd.databricks.v1+cell": {
     "cellMetadata": {
      "byteLimit": 2048000,
      "rowLimit": 10000
     },
     "inputWidgets": {},
     "nuid": "6d6edb2e-41ae-4fde-8f1d-77da94b4bf05",
     "showTitle": false,
     "tableResultSettingsMap": {},
     "title": ""
    }
   },
   "outputs": [],
   "source": [
    "%pip install -U -qqqq sqlparse\n",
    "dbutils.library.restartPython()"
   ]
  },
  {
   "cell_type": "code",
   "execution_count": 0,
   "metadata": {
    "application/vnd.databricks.v1+cell": {
     "cellMetadata": {
      "byteLimit": 2048000,
      "rowLimit": 10000
     },
     "inputWidgets": {},
     "nuid": "5788abff-d9e0-4fe5-9187-65df02f3f756",
     "showTitle": false,
     "tableResultSettingsMap": {},
     "title": ""
    }
   },
   "outputs": [],
   "source": [
    "import os\n",
    "import sys\n",
    "\n",
    "current_dir = os.getcwd()\n",
    "module_path = os.path.join(current_dir, \".\")  # replace with actual folder\n",
    "sys.path.insert(0, module_path)\n",
    "from parser_utils import extract_and_replace_subqueries, strip_comments, prettify_final, extract_all_subqueries_to_list\n"
   ]
  },
  {
   "cell_type": "code",
   "execution_count": 0,
   "metadata": {
    "application/vnd.databricks.v1+cell": {
     "cellMetadata": {
      "byteLimit": 2048000,
      "rowLimit": 10000
     },
     "inputWidgets": {},
     "nuid": "207745e0-5d8a-427f-8bdd-8630b1c30e5e",
     "showTitle": false,
     "tableResultSettingsMap": {},
     "title": ""
    }
   },
   "outputs": [],
   "source": [
    "import random\n",
    "\n",
    "def generate_complex_query():\n",
    "    base_query = \"\"\"\n",
    "WITH\n",
    "DeptStats AS (\n",
    "    SELECT\n",
    "        DepartmentID,\n",
    "        SUM(Salary) AS TotalDeptSalary,\n",
    "        COUNT(*) AS NumEmployees,\n",
    "        AVG(Salary) AS AvgDeptSalary\n",
    "    FROM\n",
    "        Employees\n",
    "    GROUP BY\n",
    "        DepartmentID\n",
    "),\n",
    "EmpProjects AS (\n",
    "    SELECT\n",
    "        EmployeeID,\n",
    "        COUNT(ProjectID) AS ProjectsCompleted,\n",
    "        MAX(CompletedDate) AS LastProjectDate,\n",
    "        YEAR(MAX(CompletedDate)) AS LastProjectYear\n",
    "    FROM\n",
    "        Projects\n",
    "    WHERE\n",
    "        Status = 'Completed'\n",
    "    GROUP BY\n",
    "        EmployeeID\n",
    ")\n",
    "\n",
    "SELECT\n",
    "    e.EmployeeID,\n",
    "    UPPER(e.Name) AS Name,\n",
    "    d.Name AS Department,\n",
    "    CASE\n",
    "        WHEN e.Salary > (\n",
    "            SELECT AVG(Salary)\n",
    "            FROM Employees\n",
    "            WHERE DepartmentID = e.DepartmentID\n",
    "        ) THEN CONCAT('Above Average (', CAST(e.Salary AS VARCHAR), ')')\n",
    "        ELSE 'Average or Below'\n",
    "    END AS SalaryStatus,\n",
    "    -- some remark here,\n",
    "    CASE\n",
    "        WHEN    rsm.investment_type = 'BL'\n",
    "            AND NVL (psah.acrd_cd, 'N') NOT IN ('Y', 'V') -- story 897300\n",
    "        THEN\n",
    "            NVL (\n",
    "                (SELECT wacoupon\n",
    "                   FROM stg_wso_pos_acr_ame\n",
    "                  WHERE     portfolio_fund_id = psah.cal_dt\n",
    "                        AND asofdate = psah.cal_dt\n",
    "                        AND asset_primaryud = psah.asset_id\n",
    "                        AND rec_typ_cd = 'POS'),\n",
    "                0)\n",
    "        ELSE\n",
    "            psah.int_rt\n",
    "    END\n",
    "        AS pos_int_it,  \n",
    "    ep.ProjectsCompleted,\n",
    "    YEAR(e.HireDate) AS HireYear,\n",
    "    MONTH(e.HireDate) AS HireMonth,\n",
    "    COALESCE(ep.LastProjectYear, 'N/A') AS LastProjectYear,\n",
    "    SELECT region_id FROM regoins WHERE ROWNUM=1\n",
    "FROM\n",
    "    Employees e\n",
    "    JOIN Departments d ON e.DepartmentID = d.DepartmentID\n",
    "    LEFT JOIN EmpProjects ep ON e.EmployeeID = ep.EmployeeID\n",
    "WHERE\n",
    "    e.EmployeeID IN (\n",
    "        SELECT\n",
    "            e2.EmployeeID\n",
    "        FROM\n",
    "            Employees e2\n",
    "            JOIN Departments d2 ON e2.DepartmentID = d2.DepartmentID\n",
    "            LEFT JOIN EmpProjects ep2 ON e2.EmployeeID = ep2.EmployeeID\n",
    "        WHERE\n",
    "            e2.Salary > (\n",
    "                SELECT AVG(Salary)\n",
    "                FROM Employees\n",
    "                WHERE DepartmentID = e2.DepartmentID\n",
    "            )\n",
    "    )\n",
    "UNION ALL\n",
    "SELECT\n",
    "    NULL AS EmployeeID,\n",
    "    NULL AS Name,\n",
    "    d.Name AS Department,\n",
    "    CONCAT('Department Total: ', CAST(ds.TotalDeptSalary AS VARCHAR)) AS SalaryStatus,\n",
    "    ds.NumEmployees AS ProjectsCompleted,\n",
    "    NULL AS HireYear,\n",
    "    NULL AS HireMonth,\n",
    "    NULL AS LastProjectYear,\n",
    "    SELECT region_id FROM regoins WHERE ROWNUM=1,\n",
    "\"\"\"\n",
    "\n",
    "    # Generate 599 columns, each randomly a literal or a CASE with subquery\n",
    "    cols = []\n",
    "    for i in range(1, 600):\n",
    "        rnd = random.random()\n",
    "        if rnd < 0.05:\n",
    "            col = (\n",
    "                f\"\"\"\n",
    "                CASE\n",
    "                    WHEN\n",
    "                        ds.TotalDeptSalary > 100000 AND \n",
    "                        ds.TotalDeptSalary < 200000 AND\n",
    "                        NVL(a.emp_class, 'N') NOT IN ('A', 'B') -- story 1234\n",
    "                    THEN\n",
    "                        NVL(\n",
    "                            (\n",
    "                                SELECT emp_id FROM Employees WHERE DepartmentID = ds.DepartmentID AND ROWNUM=1\n",
    "                            )\n",
    "                        , 0)\n",
    "                    ELSE 0\n",
    "                END as col{i}\n",
    "                \"\"\"\n",
    "                # f\"CASE WHEN ds.TotalDeptSalary > 100000 AND ds.TotalDeptSalary < 200000 AND NVL(a.emp_class, 'N') NOT IN ('A', 'B') -- story 1234\\n\"\n",
    "                # f\"THEN NVL((SELECT COUNT(*) FROM Employees WHERE DepartmentID = ds.DepartmentID),0)\\n\"\n",
    "                # f\"ELSE 0 END as col{i}\"\n",
    "            )\n",
    "        elif rnd >= 0.05 and rnd < 0.1:\n",
    "            \n",
    "            col = (\n",
    "                f\"\"\"\n",
    "                CASE\n",
    "                    WHEN\n",
    "                        ds.TotalDeptSalary > 100000 AND \n",
    "                        ds.TotalDeptSalary < 200000 AND\n",
    "                        NVL(a.emp_class, 'N') NOT IN ('A', 'B') -- story 1234\n",
    "                    THEN\n",
    "                        NVL(\n",
    "                            (\n",
    "                                SELECT emp_id FROM Employees WHERE DepartmentID = ds.DepartmentID\n",
    "                            )\n",
    "                        , 2)\n",
    "                    ELSE 0\n",
    "                END as col{i}\n",
    "                \"\"\"\n",
    "                # f\"CASE WHEN ds.TotalDeptSalary > 100000 AND ds.TotalDeptSalary < 200000 AND NVL(a.emp_class, 'N') NOT IN ('A', 'B') -- story 1234\\n\"\n",
    "                # f\"THEN NVL((SELECT COUNT(*) FROM Employees WHERE DepartmentID = ds.DepartmentID),2)\\n\"\n",
    "                # f\"ELSE 0 END as col{i}\"\n",
    "            )\n",
    "        elif rnd >= 0.1 and rnd < 0.2:\n",
    "            col = (\n",
    "                f\"\"\"\n",
    "                CASE\n",
    "                    WHEN\n",
    "                        ds.TotalDeptSalary > 100000 AND \n",
    "                        ds.TotalDeptSalary < 200000 AND\n",
    "                        NVL(a.emp_class, 'N') NOT IN ('A', 'B') -- story 1234\n",
    "                    THEN\n",
    "                        NVL(\n",
    "                            (\n",
    "                                SELECT emp_id FROM Employees WHERE DepartmentID = ds.DepartmentID\n",
    "                            )\n",
    "                        , 'x')\n",
    "                    ELSE 0\n",
    "                END as col{i}\n",
    "                \"\"\"\n",
    "                # f\"CASE WHEN ds.TotalDeptSalary > 100000 AND ds.TotalDeptSalary < 200000 AND NVL(a.emp_class, 'N') NOT IN ('A', 'B') -- story 1234\\n\"\n",
    "                # f\"THEN NVL((SELECT COUNT(*) FROM Employees WHERE DepartmentID = ds.DepartmentID),'x')\\n\"\n",
    "                # f\"ELSE 0 END as col{i}\"\n",
    "            )\n",
    "        elif rnd >= 0.2 and rnd < 0.25:\n",
    "            col = f\"myfunc_from({rnd}) as col{i}\"\n",
    "        elif rnd >= 0.25 and rnd < 0.3:\n",
    "            col = f\"myfunc_fromchar({rnd}) as col{i}\"\n",
    "        else:\n",
    "            col = f\"'col{i}' as col{i}\"\n",
    "        cols.append(col)\n",
    "    cols_str = \",\\n\".join(cols)\n",
    "\n",
    "    # Assemble the final query\n",
    "    final_query = f\"\"\"\n",
    "{base_query}\n",
    "{cols_str}\n",
    "FROM\n",
    "    DeptStats ds\n",
    "    JOIN Departments d ON ds.DepartmentID = d.DepartmentID;\n",
    "\"\"\"\n",
    "    return final_query\n",
    "\n",
    "query_string = generate_complex_query()\n",
    "print(query_string)\n"
   ]
  },
  {
   "cell_type": "code",
   "execution_count": 0,
   "metadata": {
    "application/vnd.databricks.v1+cell": {
     "cellMetadata": {
      "byteLimit": 2048000,
      "rowLimit": 10000
     },
     "inputWidgets": {},
     "nuid": "9b23f280-6705-4f56-b244-9e92f44aba58",
     "showTitle": false,
     "tableResultSettingsMap": {},
     "title": ""
    }
   },
   "outputs": [],
   "source": [
    "# query_string = \"\"\"\n",
    "# select\n",
    "#     *\n",
    "# from\n",
    "#     (select * from (select * from subtable1))  as subquery1\n",
    "# \"\"\""
   ]
  },
  {
   "cell_type": "code",
   "execution_count": 0,
   "metadata": {
    "application/vnd.databricks.v1+cell": {
     "cellMetadata": {
      "byteLimit": 2048000,
      "rowLimit": 10000
     },
     "inputWidgets": {},
     "nuid": "f2a37f4a-c0ee-486f-b6d7-47e49525c74d",
     "showTitle": false,
     "tableResultSettingsMap": {
      "0": {
       "dataGridStateBlob": "{\"version\":1,\"tableState\":{\"columnPinning\":{\"left\":[\"#row_number#\"],\"right\":[]},\"columnSizing\":{},\"columnVisibility\":{}},\"settings\":{\"columns\":{}},\"syncTimestamp\":1754658689022}",
       "filterBlob": null,
       "queryPlanFiltersBlob": null,
       "tableResultIndex": 0
      }
     },
     "title": ""
    }
   },
   "outputs": [],
   "source": [
    "all_subqueries = extract_all_subqueries_to_list(query_string)\n",
    "df_subqueries = spark.createDataFrame(all_subqueries)\n",
    "\n",
    "display(df_subqueries.select(\"id\", \"full_sub_query\"))"
   ]
  }
 ],
 "metadata": {
  "application/vnd.databricks.v1+notebook": {
   "computePreferences": null,
   "dashboards": [],
   "environmentMetadata": {
    "base_environment": "dbe_f14fbde8-5353-4144-89be-f0a3e93fffc9",
    "environment_version": "2"
   },
   "inputWidgetPreferences": null,
   "language": "python",
   "notebookMetadata": {
    "pythonIndentUnit": 2
   },
   "notebookName": "subquery_extractor_test",
   "widgets": {}
  },
  "language_info": {
   "name": "python"
  }
 },
 "nbformat": 4,
 "nbformat_minor": 0
}

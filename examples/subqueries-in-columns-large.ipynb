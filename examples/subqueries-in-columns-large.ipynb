{
 "cells": [
  {
   "cell_type": "code",
   "execution_count": 0,
   "metadata": {
    "application/vnd.databricks.v1+cell": {
     "cellMetadata": {
      "byteLimit": 2048000,
      "rowLimit": 10000
     },
     "inputWidgets": {},
     "nuid": "fed703e0-011d-4e92-a2a8-58e2bc165894",
     "showTitle": false,
     "tableResultSettingsMap": {},
     "title": ""
    }
   },
   "outputs": [],
   "source": [
    "import random\n",
    "\n",
    "def generate_complex_query():\n",
    "    base_query = \"\"\"\n",
    "SELECT\n",
    "    NULL AS EmployeeID,\n",
    "    NULL AS Name,\n",
    "    d.Name AS Department,\n",
    "    CONCAT('Department Total: ', CAST(ds.TotalDeptSalary AS VARCHAR)) AS SalaryStatus,\n",
    "    ds.NumEmployees AS ProjectsCompleted,\n",
    "    NULL AS HireYear,\n",
    "    NULL AS HireMonth,\n",
    "    NULL AS LastProjectYear,\n",
    "\"\"\"\n",
    "\n",
    "    # Generate 599 columns, each randomly a literal or a CASE with subquery\n",
    "    cols = []\n",
    "    for i in range(1, 600):\n",
    "        rnd = random.random()\n",
    "        if rnd < 0.05:\n",
    "            col = (\n",
    "                f\"CASE WHEN ds.TotalDeptSalary > 100000 AND ds.TotalDeptSalary < 200000 AND NVL(a.emp_class, 'N') NOT IN ('A', 'B') -- story 1234\\n\"\n",
    "                f\"THEN NVL((SELECT COUNT(*) FROM Employees WHERE DepartmentID = ds.DepartmentID),0)\\n\"\n",
    "                f\"ELSE 0 END as col{i}\"\n",
    "            )\n",
    "        elif rnd >= 0.05 and rnd < 0.1:\n",
    "            col = (\n",
    "                f\"CASE WHEN ds.TotalDeptSalary > 100000 AND ds.TotalDeptSalary < 200000 AND NVL(a.emp_class, 'N') NOT IN ('A', 'B') -- story 1234\\n\"\n",
    "                f\"THEN NVL((SELECT COUNT(*) FROM Employees WHERE DepartmentID = ds.DepartmentID),2)\\n\"\n",
    "                f\"ELSE 0 END as col{i}\"\n",
    "            )\n",
    "        elif rnd >= 0.1 and rnd < 0.2:\n",
    "            col = (\n",
    "                f\"CASE WHEN ds.TotalDeptSalary > 100000 AND ds.TotalDeptSalary < 200000 AND NVL(a.emp_class, 'N') NOT IN ('A', 'B') -- story 1234\\n\"\n",
    "                f\"THEN NVL((SELECT COUNT(*) FROM Employees WHERE DepartmentID = ds.DepartmentID),'x')\\n\"\n",
    "                f\"ELSE 0 END as col{i}\"\n",
    "            )\n",
    "        else:\n",
    "            col = f\"'col{i}' as col{i}\"\n",
    "        cols.append(col)\n",
    "    cols_str = \",\\n\".join(cols)\n",
    "\n",
    "    # Assemble the final query\n",
    "    final_query = f\"\"\"{base_query}{cols_str}\n",
    "FROM\n",
    "    DeptStats ds\n",
    "    JOIN Departments d ON ds.DepartmentID = d.DepartmentID;\n",
    "\"\"\"\n",
    "    return final_query\n",
    "\n",
    "query_string = generate_complex_query()\n",
    "print(query_string)\n"
   ]
  },
  {
   "cell_type": "code",
   "execution_count": 0,
   "metadata": {
    "application/vnd.databricks.v1+cell": {
     "cellMetadata": {
      "byteLimit": 2048000,
      "rowLimit": 10000
     },
     "inputWidgets": {},
     "nuid": "1170ec53-2681-4be0-aeca-ddaf0637d1b8",
     "showTitle": false,
     "tableResultSettingsMap": {},
     "title": ""
    }
   },
   "outputs": [],
   "source": [
    "result = dbutils.notebook.run(\n",
    "    \"../parser_driver\", \n",
    "    0, \n",
    "    {\n",
    "        \"sql\": query_string, \n",
    "        \"endpoint\":\"databricks-claude-sonnet-4\",\n",
    "        # \"endpoint\": \"\",\n",
    "        \"parse_log_table\": \"users.paul_signorelli.sql_parsing_log\",\n",
    "        \"column_chunk_size\": \"50\",\n",
    "        \"total_stages\": \"3\"\n",
    "    }\n",
    ")"
   ]
  }
 ],
 "metadata": {
  "application/vnd.databricks.v1+notebook": {
   "computePreferences": null,
   "dashboards": [],
   "environmentMetadata": {
    "base_environment": "",
    "environment_version": "2"
   },
   "inputWidgetPreferences": null,
   "language": "python",
   "notebookMetadata": {
    "mostRecentlyExecutedCommandWithImplicitDF": {
     "commandId": 3397375242277781,
     "dataframes": [
      "_sqldf"
     ]
    },
    "pythonIndentUnit": 4
   },
   "notebookName": "subqueries-in-columns-large",
   "widgets": {}
  },
  "language_info": {
   "name": "python"
  }
 },
 "nbformat": 4,
 "nbformat_minor": 0
}

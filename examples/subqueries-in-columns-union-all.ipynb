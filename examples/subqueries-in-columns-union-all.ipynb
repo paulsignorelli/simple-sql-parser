{
 "cells": [
  {
   "cell_type": "code",
   "execution_count": 0,
   "metadata": {
    "application/vnd.databricks.v1+cell": {
     "cellMetadata": {
      "byteLimit": 2048000,
      "rowLimit": 10000
     },
     "inputWidgets": {},
     "nuid": "5ddf013a-35ff-4799-9e6e-2e6eb340bc5f",
     "showTitle": false,
     "tableResultSettingsMap": {},
     "title": ""
    }
   },
   "outputs": [],
   "source": [
    "%pip install sqlparse\n",
    "dbutils.library.restartPython()"
   ]
  },
  {
   "cell_type": "code",
   "execution_count": 0,
   "metadata": {
    "application/vnd.databricks.v1+cell": {
     "cellMetadata": {
      "byteLimit": 2048000,
      "rowLimit": 10000
     },
     "inputWidgets": {},
     "nuid": "af58ec2e-9da8-4fa1-9c69-ebed4f8f437d",
     "showTitle": false,
     "tableResultSettingsMap": {},
     "title": ""
    }
   },
   "outputs": [],
   "source": [
    "import sqlparse\n",
    "\n",
    "def prettify_final(query_string: str):\n",
    "    # Format with sqlparse (keeps <<>> for any missing)\n",
    "    prettified_value = sqlparse.format(query_string, reindent=True, keyword_case='upper')\n",
    "    return prettified_value"
   ]
  },
  {
   "cell_type": "code",
   "execution_count": 0,
   "metadata": {
    "application/vnd.databricks.v1+cell": {
     "cellMetadata": {
      "byteLimit": 2048000,
      "rowLimit": 10000
     },
     "inputWidgets": {},
     "nuid": "fed703e0-011d-4e92-a2a8-58e2bc165894",
     "showTitle": false,
     "tableResultSettingsMap": {},
     "title": ""
    }
   },
   "outputs": [],
   "source": [
    "import random\n",
    "\n",
    "def generate_complex_query():\n",
    "    base_query = \"\"\"\n",
    "WITH\n",
    "DeptStats AS (\n",
    "    SELECT\n",
    "        DepartmentID,\n",
    "        SUM(Salary) AS TotalDeptSalary,\n",
    "        COUNT(*) AS NumEmployees,\n",
    "        AVG(Salary) AS AvgDeptSalary\n",
    "    FROM\n",
    "        Employees\n",
    "    GROUP BY\n",
    "        DepartmentID\n",
    "),\n",
    "EmpProjects AS (\n",
    "    SELECT\n",
    "        EmployeeID,\n",
    "        COUNT(ProjectID) AS ProjectsCompleted,\n",
    "        MAX(CompletedDate) AS LastProjectDate,\n",
    "        YEAR(MAX(CompletedDate)) AS LastProjectYear\n",
    "    FROM\n",
    "        Projects\n",
    "    WHERE\n",
    "        Status = 'Completed'\n",
    "    GROUP BY\n",
    "        EmployeeID\n",
    ")\n",
    "\n",
    "SELECT\n",
    "    e.EmployeeID,\n",
    "    UPPER(e.Name) AS Name,\n",
    "    d.Name AS Department,\n",
    "    CASE\n",
    "        WHEN e.Salary > (\n",
    "            SELECT AVG(Salary)\n",
    "            FROM Employees\n",
    "            WHERE DepartmentID = e.DepartmentID\n",
    "        ) THEN CONCAT('Above Average (', CAST(e.Salary AS VARCHAR), ')')\n",
    "        ELSE 'Average or Below'\n",
    "    END AS SalaryStatus,\n",
    "    -- some remark here,\n",
    "    CASE\n",
    "        WHEN    rsm.investment_type = 'BL'\n",
    "            AND NVL (psah.acrd_cd, 'N') NOT IN ('Y', 'V') -- story 897300\n",
    "        THEN\n",
    "            NVL (\n",
    "                (SELECT wacoupon\n",
    "                   FROM stg_wso_pos_acr_ame\n",
    "                  WHERE     portfolio_fund_id = psah.cal_dt\n",
    "                        AND asofdate = psah.cal_dt\n",
    "                        AND asset_primaryud = psah.asset_id\n",
    "                        AND rec_typ_cd = 'POS'),\n",
    "                0)\n",
    "        ELSE\n",
    "            psah.int_rt\n",
    "    END\n",
    "        AS pos_int_it,  \n",
    "    ep.ProjectsCompleted,\n",
    "    YEAR(e.HireDate) AS HireYear,\n",
    "    MONTH(e.HireDate) AS HireMonth,\n",
    "    COALESCE(ep.LastProjectYear, 'N/A') AS LastProjectYear\n",
    "FROM\n",
    "    Employees e\n",
    "    JOIN Departments d ON e.DepartmentID = d.DepartmentID\n",
    "    LEFT JOIN EmpProjects ep ON e.EmployeeID = ep.EmployeeID\n",
    "WHERE\n",
    "    e.EmployeeID IN (\n",
    "        SELECT\n",
    "            e2.EmployeeID\n",
    "        FROM\n",
    "            Employees e2\n",
    "            JOIN Departments d2 ON e2.DepartmentID = d2.DepartmentID\n",
    "            LEFT JOIN EmpProjects ep2 ON e2.EmployeeID = ep2.EmployeeID\n",
    "        WHERE\n",
    "            e2.Salary > (\n",
    "                SELECT AVG(Salary)\n",
    "                FROM Employees\n",
    "                WHERE DepartmentID = e2.DepartmentID\n",
    "            )\n",
    "    )\n",
    "UNION ALL\n",
    "SELECT\n",
    "    NULL AS EmployeeID,\n",
    "    NULL AS Name,\n",
    "    d.Name AS Department,\n",
    "    CONCAT('Department Total: ', CAST(ds.TotalDeptSalary AS VARCHAR)) AS SalaryStatus,\n",
    "    ds.NumEmployees AS ProjectsCompleted,\n",
    "    NULL AS HireYear,\n",
    "    NULL AS HireMonth,\n",
    "    NULL AS LastProjectYear,\n",
    "\"\"\"\n",
    "\n",
    "    # Generate 599 columns, each randomly a literal or a CASE with subquery\n",
    "    cols = []\n",
    "    for i in range(1, 600):\n",
    "        rnd = random.random()\n",
    "        if rnd < 0.05:\n",
    "            col = (\n",
    "                f\"\"\"\n",
    "                CASE\n",
    "                    WHEN\n",
    "                        ds.TotalDeptSalary > 100000 AND \n",
    "                        ds.TotalDeptSalary < 200000 AND\n",
    "                        NVL(a.emp_class, 'N') NOT IN ('A', 'B') -- story 1234\n",
    "                    THEN\n",
    "                        NVL(\n",
    "                            (\n",
    "                                SELECT emp_id FROM Employees WHERE DepartmentID = ds.DepartmentID\n",
    "                            )\n",
    "                        , 0)\n",
    "                    ELSE 0\n",
    "                END as col{i}\n",
    "                \"\"\"\n",
    "                # f\"CASE WHEN ds.TotalDeptSalary > 100000 AND ds.TotalDeptSalary < 200000 AND NVL(a.emp_class, 'N') NOT IN ('A', 'B') -- story 1234\\n\"\n",
    "                # f\"THEN NVL((SELECT COUNT(*) FROM Employees WHERE DepartmentID = ds.DepartmentID),0)\\n\"\n",
    "                # f\"ELSE 0 END as col{i}\"\n",
    "            )\n",
    "        elif rnd >= 0.05 and rnd < 0.1:\n",
    "            \n",
    "            col = (\n",
    "                f\"\"\"\n",
    "                CASE\n",
    "                    WHEN\n",
    "                        ds.TotalDeptSalary > 100000 AND \n",
    "                        ds.TotalDeptSalary < 200000 AND\n",
    "                        NVL(a.emp_class, 'N') NOT IN ('A', 'B') -- story 1234\n",
    "                    THEN\n",
    "                        NVL(\n",
    "                            (\n",
    "                                SELECT emp_id FROM Employees WHERE DepartmentID = ds.DepartmentID\n",
    "                            )\n",
    "                        , 2)\n",
    "                    ELSE 0\n",
    "                END as col{i}\n",
    "                \"\"\"\n",
    "                # f\"CASE WHEN ds.TotalDeptSalary > 100000 AND ds.TotalDeptSalary < 200000 AND NVL(a.emp_class, 'N') NOT IN ('A', 'B') -- story 1234\\n\"\n",
    "                # f\"THEN NVL((SELECT COUNT(*) FROM Employees WHERE DepartmentID = ds.DepartmentID),2)\\n\"\n",
    "                # f\"ELSE 0 END as col{i}\"\n",
    "            )\n",
    "        elif rnd >= 0.1 and rnd < 0.2:\n",
    "            col = (\n",
    "                f\"\"\"\n",
    "                CASE\n",
    "                    WHEN\n",
    "                        ds.TotalDeptSalary > 100000 AND \n",
    "                        ds.TotalDeptSalary < 200000 AND\n",
    "                        NVL(a.emp_class, 'N') NOT IN ('A', 'B') -- story 1234\n",
    "                    THEN\n",
    "                        NVL(\n",
    "                            (\n",
    "                                SELECT emp_id FROM Employees WHERE DepartmentID = ds.DepartmentID\n",
    "                            )\n",
    "                        , 'x')\n",
    "                    ELSE 0\n",
    "                END as col{i}\n",
    "                \"\"\"\n",
    "                # f\"CASE WHEN ds.TotalDeptSalary > 100000 AND ds.TotalDeptSalary < 200000 AND NVL(a.emp_class, 'N') NOT IN ('A', 'B') -- story 1234\\n\"\n",
    "                # f\"THEN NVL((SELECT COUNT(*) FROM Employees WHERE DepartmentID = ds.DepartmentID),'x')\\n\"\n",
    "                # f\"ELSE 0 END as col{i}\"\n",
    "            )\n",
    "        elif rnd >= 0.2 and rnd < 0.25:\n",
    "            col = f\"myfunc_from({rnd}) as col{i}\"\n",
    "        elif rnd >= 0.25 and rnd < 0.3:\n",
    "            col = f\"myfunc_fromchar({rnd}) as col{i}\"\n",
    "        else:\n",
    "            col = f\"'col{i}' as col{i}\"\n",
    "        cols.append(col)\n",
    "    cols_str = \",\\n\".join(cols)\n",
    "\n",
    "    # Assemble the final query\n",
    "    final_query = f\"\"\"\n",
    "{base_query}\n",
    "{cols_str}\n",
    "FROM\n",
    "    DeptStats ds\n",
    "    JOIN Departments d ON ds.DepartmentID = d.DepartmentID;\n",
    "\"\"\"\n",
    "    return final_query\n",
    "\n",
    "query_string = prettify_final(generate_complex_query())\n",
    "print(query_string)\n"
   ]
  },
  {
   "cell_type": "code",
   "execution_count": 0,
   "metadata": {
    "application/vnd.databricks.v1+cell": {
     "cellMetadata": {
      "byteLimit": 2048000,
      "implicitDf": true,
      "rowLimit": 10000
     },
     "inputWidgets": {},
     "nuid": "61fb66f0-eda7-4fae-b3ab-d184f3124676",
     "showTitle": false,
     "tableResultSettingsMap": {},
     "title": ""
    }
   },
   "outputs": [],
   "source": [
    "# %sql\n",
    "# UPDATE users.paul_signorelli.sql_parsing_log \n",
    "# SET converted_content = '' \n",
    "# WHERE identifier = 'subquery_select[4]_1';\n",
    "\n",
    "# UPDATE users.paul_signorelli.sql_parsing_log \n",
    "# SET converted_columns = array() \n",
    "# WHERE identifier = 'subquery_select[4]_2';\n",
    "\n",
    "# select * from users.paul_signorelli.sql_parsing_log where identifier in ('subquery_select[4]_1', 'subquery_select[4]_2')"
   ]
  },
  {
   "cell_type": "code",
   "execution_count": 0,
   "metadata": {
    "application/vnd.databricks.v1+cell": {
     "cellMetadata": {
      "byteLimit": 2048000,
      "rowLimit": 10000
     },
     "inputWidgets": {},
     "nuid": "1170ec53-2681-4be0-aeca-ddaf0637d1b8",
     "showTitle": false,
     "tableResultSettingsMap": {},
     "title": ""
    }
   },
   "outputs": [],
   "source": [
    "result = dbutils.notebook.run(\n",
    "    \"../parser_driver\", \n",
    "    0, \n",
    "    {\n",
    "        \"sql\": query_string, \n",
    "        # \"endpoint\":\"databricks-claude-sonnet-4\",\n",
    "        # \"endpoint\": \"databricks-claude-3-7-sonnet\",\n",
    "        \"endpoint\": \"\",\n",
    "        \"parse_log_table\": \"users.paul_signorelli.sql_parsing_log\",\n",
    "        \"column_chunk_size\": \"50\",\n",
    "        \"full_refresh\": \"true\",\n",
    "        \"total_stages\": \"3\"\n",
    "    }\n",
    ")"
   ]
  },
  {
   "cell_type": "code",
   "execution_count": 0,
   "metadata": {
    "application/vnd.databricks.v1+cell": {
     "cellMetadata": {
      "byteLimit": 2048000,
      "implicitDf": true,
      "rowLimit": 10000
     },
     "inputWidgets": {},
     "nuid": "213f88bb-c517-445e-889f-bb12a0c37fcd",
     "showTitle": false,
     "tableResultSettingsMap": {},
     "title": ""
    }
   },
   "outputs": [],
   "source": [
    "# %sql\n",
    "# select * from users.paul_signorelli.sql_parsing_log;"
   ]
  }
 ],
 "metadata": {
  "application/vnd.databricks.v1+notebook": {
   "computePreferences": null,
   "dashboards": [],
   "environmentMetadata": {
    "base_environment": "",
    "environment_version": "2"
   },
   "inputWidgetPreferences": null,
   "language": "python",
   "notebookMetadata": {
    "mostRecentlyExecutedCommandWithImplicitDF": {
     "commandId": -1,
     "dataframes": [
      "_sqldf"
     ]
    },
    "pythonIndentUnit": 4
   },
   "notebookName": "subqueries-in-columns-union-all",
   "widgets": {}
  },
  "language_info": {
   "name": "python"
  }
 },
 "nbformat": 4,
 "nbformat_minor": 0
}

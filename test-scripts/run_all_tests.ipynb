{
 "cells": [
  {
   "cell_type": "code",
   "execution_count": 0,
   "metadata": {
    "application/vnd.databricks.v1+cell": {
     "cellMetadata": {
      "byteLimit": 2048000,
      "rowLimit": 10000
     },
     "inputWidgets": {},
     "nuid": "bf3a34df-c5da-4a11-b9c6-191f1487e837",
     "showTitle": true,
     "tableResultSettingsMap": {},
     "title": "simple"
    }
   },
   "outputs": [],
   "source": [
    "%run ./simple"
   ]
  },
  {
   "cell_type": "code",
   "execution_count": 0,
   "metadata": {
    "application/vnd.databricks.v1+cell": {
     "cellMetadata": {
      "byteLimit": 2048000,
      "rowLimit": 10000
     },
     "inputWidgets": {},
     "nuid": "58fa55c2-5c8f-402f-92d2-33bbf4866d58",
     "showTitle": true,
     "tableResultSettingsMap": {},
     "title": "complex"
    }
   },
   "outputs": [],
   "source": [
    "%run ./complex"
   ]
  },
  {
   "cell_type": "code",
   "execution_count": 0,
   "metadata": {
    "application/vnd.databricks.v1+cell": {
     "cellMetadata": {
      "byteLimit": 2048000,
      "rowLimit": 10000
     },
     "inputWidgets": {},
     "nuid": "ea0f3e32-1652-48d9-9032-fcdd1d01e176",
     "showTitle": true,
     "tableResultSettingsMap": {},
     "title": "case-statements"
    }
   },
   "outputs": [],
   "source": [
    "\n",
    "%run ./case-statements"
   ]
  }
 ],
 "metadata": {
  "application/vnd.databricks.v1+notebook": {
   "computePreferences": null,
   "dashboards": [],
   "environmentMetadata": {
    "base_environment": "",
    "environment_version": "2"
   },
   "inputWidgetPreferences": null,
   "language": "python",
   "notebookMetadata": {
    "pythonIndentUnit": 2
   },
   "notebookName": "run_all_tests",
   "widgets": {}
  },
  "language_info": {
   "name": "python"
  }
 },
 "nbformat": 4,
 "nbformat_minor": 0
}

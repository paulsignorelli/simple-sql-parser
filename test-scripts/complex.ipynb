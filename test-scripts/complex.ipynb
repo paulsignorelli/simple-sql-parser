{
 "cells": [
  {
   "cell_type": "code",
   "execution_count": 0,
   "metadata": {
    "application/vnd.databricks.v1+cell": {
     "cellMetadata": {
      "byteLimit": 2048000,
      "rowLimit": 10000
     },
     "inputWidgets": {},
     "nuid": "1170ec53-2681-4be0-aeca-ddaf0637d1b8",
     "showTitle": false,
     "tableResultSettingsMap": {},
     "title": ""
    }
   },
   "outputs": [],
   "source": [
    "%run ../parse_sql"
   ]
  },
  {
   "cell_type": "code",
   "execution_count": 0,
   "metadata": {
    "application/vnd.databricks.v1+cell": {
     "cellMetadata": {
      "byteLimit": 2048000,
      "rowLimit": 10000
     },
     "inputWidgets": {},
     "nuid": "00eba0db-ad91-4441-8431-3b74aba39dae",
     "showTitle": true,
     "tableResultSettingsMap": {},
     "title": "Large Query Test"
    }
   },
   "outputs": [],
   "source": [
    "def generate_large_test_query_string() -> str:\n",
    "    lines = []\n",
    "    lines.append(\"WITH\")\n",
    "\n",
    "    # Generate 10 CTEs\n",
    "    for i in range(1, 11):\n",
    "        lines.append(f\"    cte{i} AS (\")\n",
    "        lines.extend([\n",
    "            f\"        SELECT\",\n",
    "            f\"            user_id,\",\n",
    "            f\"            SUM(metric_{i}) AS metric_sum_{i}\",\n",
    "            f\"        FROM\",\n",
    "            f\"            source_table_{i}\",\n",
    "            f\"        WHERE\",\n",
    "            f\"            user_id IN (\",\n",
    "            f\"                SELECT user_id FROM user_filter_{i} WHERE active = TRUE\",\n",
    "            f\"            )\",\n",
    "            f\"        GROUP BY user_id\",\n",
    "            f\"    ),\"\n",
    "        ])\n",
    "\n",
    "    lines[-1] = lines[-1].rstrip(',')  # Remove trailing comma from last CTE\n",
    "\n",
    "    # Main SELECT with subqueries and joins\n",
    "    lines.extend([\n",
    "        \"SELECT\",\n",
    "        \"    u.user_id,\",\n",
    "        \"    cte1.metric_sum_1,\",\n",
    "        \"    cte2.metric_sum_2,\",\n",
    "        \"    extra_data.extra_val,\",\n",
    "        \"    (\",\n",
    "        \"        SELECT MAX(score)\",\n",
    "        \"        FROM user_scores us\",\n",
    "        \"        WHERE us.user_id = u.user_id\",\n",
    "        \"    ) AS max_score,\",\n",
    "        \"    CASE\",\n",
    "        \"        WHEN EXISTS (\",\n",
    "        \"            SELECT 1 FROM audit_log al WHERE al.user_id = u.user_id AND al.status = 'flagged'\",\n",
    "        \"        ) THEN 'FLAGGED'\",\n",
    "        \"        ELSE 'OK'\",\n",
    "        \"    END AS audit_status\",\n",
    "        \"FROM users u\",\n",
    "        \"LEFT JOIN (\",\n",
    "        \"    SELECT user_id, COUNT(*) AS extra_val\",\n",
    "        \"    FROM extra_events\",\n",
    "        \"    GROUP BY user_id\",\n",
    "        \") AS extra_data ON extra_data.user_id = u.user_id\",\n",
    "        \"JOIN cte1 ON cte1.user_id = u.user_id\",\n",
    "        \"JOIN cte2 ON cte2.user_id = u.user_id\",\n",
    "        \"WHERE\",\n",
    "        \"    u.region IN (\",\n",
    "        \"        SELECT region FROM allowed_regions WHERE region_type = 'premium'\",\n",
    "        \"    )\",\n",
    "        \"    AND EXISTS (\",\n",
    "        \"        SELECT 1 FROM login_events le WHERE le.user_id = u.user_id AND le.success = TRUE\",\n",
    "        \"    )\"\n",
    "    ])\n",
    "\n",
    "    # Pad the rest with filler lines to reach 500\n",
    "    # while len(lines) < 499:\n",
    "    #    lines.append(f\"-- filler line {len(lines)+1}\")\n",
    "\n",
    "    lines.append(\"ORDER BY u.user_id;\")\n",
    "\n",
    "    return '\\n'.join(lines)\n"
   ]
  },
  {
   "cell_type": "code",
   "execution_count": 0,
   "metadata": {
    "application/vnd.databricks.v1+cell": {
     "cellMetadata": {
      "byteLimit": 2048000,
      "rowLimit": 10000
     },
     "inputWidgets": {},
     "nuid": "054ec58d-c8c1-4ca0-8f2e-44b3de8cf6ff",
     "showTitle": true,
     "tableResultSettingsMap": {},
     "title": "Show Generated Query"
    }
   },
   "outputs": [],
   "source": [
    "query_string = generate_large_test_query_string()\n",
    "\n",
    "print(query_string[:100])\n",
    "print(\"\\n . . . \\n\")\n",
    "print(query_string[:-100]) \n",
    "print(\"\\n---------------------------------------------\\n\")\n",
    "print_full_queries(query_string) # Just preview the first 1000 characters"
   ]
  },
  {
   "cell_type": "code",
   "execution_count": 0,
   "metadata": {
    "application/vnd.databricks.v1+cell": {
     "cellMetadata": {
      "byteLimit": 2048000,
      "rowLimit": 10000
     },
     "inputWidgets": {},
     "nuid": "adde8f90-b96f-418d-a8bd-a00dbb4e2d0c",
     "showTitle": true,
     "tableResultSettingsMap": {},
     "title": "Convert Components into Dataframe"
    }
   },
   "outputs": [],
   "source": [
    "query_string = generate_large_test_query_string()\n",
    "converted_df = convert_and_get_dataframe(query_string, endpoint_name=\"databricks-claude-3-7-sonnet\")\n",
    "display(converted_df.select(\"name\", \"original\", \"converted\"))"
   ]
  },
  {
   "cell_type": "code",
   "execution_count": 0,
   "metadata": {
    "application/vnd.databricks.v1+cell": {
     "cellMetadata": {
      "byteLimit": 2048000,
      "rowLimit": 10000
     },
     "inputWidgets": {},
     "nuid": "848354d5-3dc9-464a-bb54-c83d117e4cd2",
     "showTitle": true,
     "tableResultSettingsMap": {},
     "title": "Assemble Final Query (main)"
    }
   },
   "outputs": [],
   "source": [
    "display(assemble_final_query(converted_df.select(\"name\", \"original\", \"converted\")))"
   ]
  },
  {
   "cell_type": "code",
   "execution_count": 0,
   "metadata": {
    "application/vnd.databricks.v1+cell": {
     "cellMetadata": {
      "byteLimit": 2048000,
      "rowLimit": 10000
     },
     "inputWidgets": {},
     "nuid": "2478f10a-0b48-470c-9766-2704d806013a",
     "showTitle": true,
     "tableResultSettingsMap": {},
     "title": "Show Prettified Final"
    }
   },
   "outputs": [],
   "source": [
    "prettified_value = prettify_final(assemble_final_query(converted_df.select(\"name\", \"original\", \"converted\")))\n",
    "print(prettified_value)"
   ]
  }
 ],
 "metadata": {
  "application/vnd.databricks.v1+notebook": {
   "computePreferences": null,
   "dashboards": [],
   "environmentMetadata": {
    "base_environment": "",
    "environment_version": "2"
   },
   "inputWidgetPreferences": null,
   "language": "python",
   "notebookMetadata": {
    "pythonIndentUnit": 4
   },
   "notebookName": "complex",
   "widgets": {}
  },
  "language_info": {
   "name": "python"
  }
 },
 "nbformat": 4,
 "nbformat_minor": 0
}

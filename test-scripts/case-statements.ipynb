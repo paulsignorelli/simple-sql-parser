{
 "cells": [
  {
   "cell_type": "code",
   "execution_count": 0,
   "metadata": {
    "application/vnd.databricks.v1+cell": {
     "cellMetadata": {
      "byteLimit": 2048000,
      "rowLimit": 10000
     },
     "inputWidgets": {},
     "nuid": "1170ec53-2681-4be0-aeca-ddaf0637d1b8",
     "showTitle": false,
     "tableResultSettingsMap": {},
     "title": ""
    }
   },
   "outputs": [],
   "source": [
    "%run ../parse_sql"
   ]
  },
  {
   "cell_type": "code",
   "execution_count": 0,
   "metadata": {
    "application/vnd.databricks.v1+cell": {
     "cellMetadata": {
      "byteLimit": 2048000,
      "rowLimit": 10000
     },
     "inputWidgets": {},
     "nuid": "1fd35dd5-f56d-4d5c-a66f-1be15a4ee284",
     "showTitle": true,
     "tableResultSettingsMap": {},
     "title": "Case Statement Structure"
    }
   },
   "outputs": [],
   "source": [
    "query_string = \"\"\"\n",
    "SELECT\n",
    "    psatt.fund_id AS fund_id,\n",
    "    psatt.cal_dt AS calen_dt,\n",
    "    psa.asset_id AS asset_id,\n",
    "\n",
    "    CASE \n",
    "        -- psa.int_rt\n",
    "        WHEN rsm.investment_type = 'BL'\n",
    "             AND NVL(psa.acrd_cd, 'N') NOT IN ('Y', 'V')  -- Story 897300\n",
    "        THEN NVL(\n",
    "            (SELECT wacoupon\n",
    "             FROM stg_wso_pos_acr_ame\n",
    "             WHERE portfolio_fundid = psa.fund_id\n",
    "               AND asofdate = psa.cal_dt\n",
    "               AND asset_primaryid = psa.asset_id\n",
    "               AND rec_typ_cd = 'POS'),\n",
    "            0\n",
    "        )\n",
    "        ELSE psa.int_rt\n",
    "    END AS pos_int_rt,\n",
    "\n",
    "    CASE\n",
    "        WHEN psa.fund_asset_cls_cd IN ('OP', 'OW', 'FL', 'FS')\n",
    "        THEN psa.mtrty_dt\n",
    "        ELSE rsm.e_expire_dt\n",
    "    END AS maturity_or_expiry_dt,\n",
    "\n",
    "    CASE\n",
    "        WHEN NVL(psah.acrd_cd, 'N') NOT IN ('Y', 'V')\n",
    "        THEN NVL(\n",
    "            (SELECT MAX(rateoption_floorrate)\n",
    "             FROM stg_wso_con_dtl_ame\n",
    "             WHERE portfolio_fundid = psah.fund_id\n",
    "               AND asofdate = psah.cal_dt\n",
    "               AND asset_primaryid = psah.asset_id\n",
    "               AND rec_typ_cd = 'POS'),\n",
    "            0\n",
    "        )\n",
    "        ELSE NULL\n",
    "    END AS floor_base_int_rt\n",
    "\n",
    "FROM \n",
    "    pos_sum_ame_tot psatt\n",
    "JOIN pos_sum_ame_tot psatc ON psatt.fund_id = psatc.fund_id\n",
    "                           AND psatt.cal_dt = psatc.cal_dt\n",
    "JOIN pos_sum_ame_hist psah ON psah.fund_id = psatt.fund_id\n",
    "                           AND psah.cal_dt = psatt.cal_dt\n",
    "JOIN ref_fund_status rfs ON psatt.fund_id = rfs.fund_id\n",
    "                         AND rfs.period_ind_cd = 'M'\n",
    "JOIN dhr_t dhr ON psatt.fund_id = dhr.ssb_fund\n",
    "              AND dhr.ssb_fund = rfs.fund_id\n",
    "JOIN rsm rsm ON psah.security_id = rsm.rom_instance\n",
    "LEFT JOIN pos_sum_ame_hist psa ON psa.fund_id = psatt.fund_id \n",
    "                               AND psa.cal_dt = psatt.cal_dt \n",
    "                               AND psa.asset_id = psah.asset_id\n",
    "\n",
    "WHERE\n",
    "    psatt.fnd_tot_typ_cd = 'T'\n",
    "    AND psah.base_curr_cd = psatt.fnd_tot_curr_cd\n",
    "    AND psah.local_curr_cd = psatc.fnd_tot_curr_cd\n",
    "    AND psatc.fnd_tot_typ_cd = 'C'\n",
    "    AND (psah.shr_par_qty < 0 OR psah.cst_mthd_lam > 0);\n",
    "\"\"\"\n",
    "\n",
    "print_full_queries(query_string, extract_columns_flag=True)"
   ]
  },
  {
   "cell_type": "code",
   "execution_count": 0,
   "metadata": {
    "application/vnd.databricks.v1+cell": {
     "cellMetadata": {
      "byteLimit": 2048000,
      "rowLimit": 10000
     },
     "inputWidgets": {},
     "nuid": "5e6613ec-e351-44dd-856d-077f86d77633",
     "showTitle": true,
     "tableResultSettingsMap": {},
     "title": "View Query Split"
    }
   },
   "outputs": [],
   "source": [
    "subquery_df = get_split_sql_as_dataframe(query_string, extract_columns_flag=True)\n",
    "display(subquery_df.select(\"name\", \"original\", \"columns\"))"
   ]
  },
  {
   "cell_type": "code",
   "execution_count": 0,
   "metadata": {
    "application/vnd.databricks.v1+cell": {
     "cellMetadata": {
      "byteLimit": 2048000,
      "rowLimit": 10000
     },
     "inputWidgets": {},
     "nuid": "0c60bfb2-8f21-450f-95a1-9176157b95a7",
     "showTitle": true,
     "tableResultSettingsMap": {},
     "title": "Convert Components into Dataframe"
    }
   },
   "outputs": [],
   "source": [
    "converted_df = convert_and_get_dataframe(\n",
    "    query_string, endpoint_name=\"databricks-claude-3-7-sonnet\", extract_columns_flag=True, test_mode=True\n",
    ")\n",
    "display(\n",
    "    converted_df.select(\"name\", \"original\", \"columns\", \"converted\", \"converted_columns\", \"response_error\", \"status\")\n",
    ")"
   ]
  },
  {
   "cell_type": "code",
   "execution_count": 0,
   "metadata": {
    "application/vnd.databricks.v1+cell": {
     "cellMetadata": {
      "byteLimit": 2048000,
      "rowLimit": 10000
     },
     "inputWidgets": {},
     "nuid": "81d68dc5-8f6d-466c-838a-ae92e8caa0c5",
     "showTitle": true,
     "tableResultSettingsMap": {},
     "title": "Assemble Final Query (main)"
    }
   },
   "outputs": [],
   "source": [
    "assembled_df = assemble_final_query(converted_df)\n",
    "display(assembled_df)"
   ]
  },
  {
   "cell_type": "code",
   "execution_count": 0,
   "metadata": {
    "application/vnd.databricks.v1+cell": {
     "cellMetadata": {
      "byteLimit": 2048000,
      "rowLimit": 10000
     },
     "inputWidgets": {},
     "nuid": "132ee2db-1b5b-4cca-aa70-6d4ef74ff8d6",
     "showTitle": true,
     "tableResultSettingsMap": {},
     "title": "Show Prettified Final"
    }
   },
   "outputs": [],
   "source": [
    "prettified_value = prettify_final(get_main(assembled_df))\n",
    "print(prettified_value)"
   ]
  }
 ],
 "metadata": {
  "application/vnd.databricks.v1+notebook": {
   "computePreferences": null,
   "dashboards": [],
   "environmentMetadata": {
    "base_environment": "",
    "environment_version": "2"
   },
   "inputWidgetPreferences": null,
   "language": "python",
   "notebookMetadata": {
    "pythonIndentUnit": 4
   },
   "notebookName": "case-statements",
   "widgets": {}
  },
  "language_info": {
   "name": "python"
  }
 },
 "nbformat": 4,
 "nbformat_minor": 0
}

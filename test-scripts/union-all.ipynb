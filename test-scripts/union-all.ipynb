{
 "cells": [
  {
   "cell_type": "code",
   "execution_count": 0,
   "metadata": {
    "application/vnd.databricks.v1+cell": {
     "cellMetadata": {
      "byteLimit": 2048000,
      "rowLimit": 10000
     },
     "inputWidgets": {},
     "nuid": "1170ec53-2681-4be0-aeca-ddaf0637d1b8",
     "showTitle": false,
     "tableResultSettingsMap": {},
     "title": ""
    }
   },
   "outputs": [],
   "source": [
    "%run ../parse_sql"
   ]
  },
  {
   "cell_type": "code",
   "execution_count": 0,
   "metadata": {
    "application/vnd.databricks.v1+cell": {
     "cellMetadata": {
      "byteLimit": 2048000,
      "rowLimit": 10000
     },
     "inputWidgets": {},
     "nuid": "1fd35dd5-f56d-4d5c-a66f-1be15a4ee284",
     "showTitle": true,
     "tableResultSettingsMap": {},
     "title": "Union all structure"
    }
   },
   "outputs": [],
   "source": [
    "# query_string = \"\"\"\n",
    "# WITH\n",
    "# -- First CTE: Calculate total salary and employee count by department\n",
    "# DeptStats AS (\n",
    "#     SELECT\n",
    "#         DepartmentID,\n",
    "#         SUM(Salary) AS TotalDeptSalary,\n",
    "#         COUNT(*) AS NumEmployees,\n",
    "#         AVG(Salary) AS AvgDeptSalary\n",
    "#     FROM\n",
    "#         Employees\n",
    "#     GROUP BY\n",
    "#         DepartmentID\n",
    "# ),\n",
    "# -- Second CTE: Count completed projects by employee and get latest project completion year\n",
    "# EmpProjects AS (\n",
    "#     SELECT\n",
    "#         EmployeeID,\n",
    "#         COUNT(ProjectID) AS ProjectsCompleted,\n",
    "#         MAX(CompletedDate) AS LastProjectDate,\n",
    "#         YEAR(MAX(CompletedDate)) AS LastProjectYear\n",
    "#     FROM\n",
    "#         Projects\n",
    "#     WHERE\n",
    "#         Status = 'Completed'\n",
    "#     GROUP BY\n",
    "#         EmployeeID\n",
    "# )\n",
    "\n",
    "# -- Main query with UNION ALL\n",
    "# SELECT\n",
    "#     e.EmployeeID,\n",
    "#     UPPER(e.Name) AS Name, -- String function\n",
    "#     d.Name AS Department,\n",
    "#     -- CASE with subquery and function: Check if employee's salary is above department average\n",
    "#     CASE\n",
    "#         WHEN e.Salary > (\n",
    "#             SELECT AVG(Salary)\n",
    "#             FROM Employees\n",
    "#             WHERE DepartmentID = e.DepartmentID\n",
    "#         ) THEN CONCAT('Above Average (', CAST(e.Salary AS VARCHAR), ')')\n",
    "#         ELSE 'Average or Below'\n",
    "#     END AS SalaryStatus,\n",
    "#     ep.ProjectsCompleted,\n",
    "#     -- Date function: Extract hire year and month\n",
    "#     YEAR(e.HireDate) AS HireYear,\n",
    "#     MONTH(e.HireDate) AS HireMonth,\n",
    "#     -- Use COALESCE to handle NULLs in LastProjectYear\n",
    "#     COALESCE(ep.LastProjectYear, 'N/A') AS LastProjectYear\n",
    "# FROM\n",
    "#     Employees e\n",
    "#     JOIN Departments d ON e.DepartmentID = d.DepartmentID\n",
    "#     LEFT JOIN EmpProjects ep ON e.EmployeeID = ep.EmployeeID\n",
    "# UNION ALL\n",
    "# SELECT\n",
    "#     NULL AS EmployeeID,\n",
    "#     NULL AS Name,\n",
    "#     d.Name AS Department,\n",
    "#     CONCAT('Department Total: ', CAST(ds.TotalDeptSalary AS VARCHAR)) AS SalaryStatus,\n",
    "#     ds.NumEmployees AS ProjectsCompleted,\n",
    "#     NULL AS HireYear,\n",
    "#     NULL AS HireMonth,\n",
    "#     NULL AS LastProjectYear\n",
    "# FROM\n",
    "#     DeptStats ds\n",
    "#     JOIN Departments d ON ds.DepartmentID = d.DepartmentID;\n",
    "# \"\"\"\n",
    "\n",
    "# print_full_queries(query_string, extract_columns_flag=True)"
   ]
  },
  {
   "cell_type": "code",
   "execution_count": 0,
   "metadata": {
    "application/vnd.databricks.v1+cell": {
     "cellMetadata": {
      "byteLimit": 2048000,
      "rowLimit": 10000
     },
     "inputWidgets": {},
     "nuid": "c7cdcde1-aec3-4040-a329-b0756ef0e7ad",
     "showTitle": false,
     "tableResultSettingsMap": {},
     "title": ""
    }
   },
   "outputs": [],
   "source": [
    "query_string = \"\"\"\n",
    "WITH\n",
    "DeptStats AS (\n",
    "    SELECT\n",
    "        DepartmentID,\n",
    "        SUM(Salary) AS TotalDeptSalary,\n",
    "        COUNT(*) AS NumEmployees,\n",
    "        AVG(Salary) AS AvgDeptSalary\n",
    "    FROM\n",
    "        Employees\n",
    "    GROUP BY\n",
    "        DepartmentID\n",
    "),\n",
    "EmpProjects AS (\n",
    "    SELECT\n",
    "        EmployeeID,\n",
    "        COUNT(ProjectID) AS ProjectsCompleted,\n",
    "        MAX(CompletedDate) AS LastProjectDate,\n",
    "        YEAR(MAX(CompletedDate)) AS LastProjectYear\n",
    "    FROM\n",
    "        Projects\n",
    "    WHERE\n",
    "        Status = 'Completed'\n",
    "    GROUP BY\n",
    "        EmployeeID\n",
    ")\n",
    "\n",
    "SELECT\n",
    "    e.EmployeeID,\n",
    "    UPPER(e.Name) AS Name,\n",
    "    d.Name AS Department,\n",
    "    CASE\n",
    "        WHEN e.Salary > (\n",
    "            SELECT AVG(Salary)\n",
    "            FROM Employees\n",
    "            WHERE DepartmentID = e.DepartmentID\n",
    "        ) THEN CONCAT('Above Average (', CAST(e.Salary AS VARCHAR), ')')\n",
    "        ELSE 'Average or Below'\n",
    "    END AS SalaryStatus,\n",
    "    ep.ProjectsCompleted,\n",
    "    YEAR(e.HireDate) AS HireYear,\n",
    "    MONTH(e.HireDate) AS HireMonth,\n",
    "    COALESCE(ep.LastProjectYear, 'N/A') AS LastProjectYear\n",
    "FROM\n",
    "    Employees e\n",
    "    JOIN Departments d ON e.DepartmentID = d.DepartmentID\n",
    "    LEFT JOIN EmpProjects ep ON e.EmployeeID = ep.EmployeeID\n",
    "WHERE\n",
    "    e.EmployeeID IN (\n",
    "        -- Subquery returning EmployeeIDs that meet some criteria\n",
    "        SELECT\n",
    "            e2.EmployeeID\n",
    "        FROM\n",
    "            Employees e2\n",
    "            JOIN Departments d2 ON e2.DepartmentID = d2.DepartmentID\n",
    "            LEFT JOIN EmpProjects ep2 ON e2.EmployeeID = ep2.EmployeeID\n",
    "        WHERE\n",
    "            -- Example filter: employees with salary above their department average\n",
    "            e2.Salary > (\n",
    "                SELECT AVG(Salary)\n",
    "                FROM Employees\n",
    "                WHERE DepartmentID = e2.DepartmentID\n",
    "            )\n",
    "    )\n",
    "UNION ALL\n",
    "SELECT\n",
    "    NULL AS EmployeeID,\n",
    "    NULL AS Name,\n",
    "    d.Name AS Department,\n",
    "    CONCAT('Department Total: ', CAST(ds.TotalDeptSalary AS VARCHAR)) AS SalaryStatus,\n",
    "    ds.NumEmployees AS ProjectsCompleted,\n",
    "    NULL AS HireYear,\n",
    "    NULL AS HireMonth,\n",
    "    NULL AS LastProjectYear\n",
    "FROM\n",
    "    DeptStats ds\n",
    "    JOIN Departments d ON ds.DepartmentID = d.DepartmentID;\n",
    "\n",
    "\"\"\"\n",
    "\n",
    "print_full_queries(query_string, extract_columns_flag=True)"
   ]
  },
  {
   "cell_type": "code",
   "execution_count": 0,
   "metadata": {
    "application/vnd.databricks.v1+cell": {
     "cellMetadata": {
      "byteLimit": 2048000,
      "rowLimit": 10000
     },
     "inputWidgets": {},
     "nuid": "5e6613ec-e351-44dd-856d-077f86d77633",
     "showTitle": true,
     "tableResultSettingsMap": {},
     "title": "View Query Split"
    }
   },
   "outputs": [],
   "source": [
    "subquery_df = get_split_sql_as_dataframe(query_string, extract_columns_flag=True)\n",
    "display(subquery_df.select(\"name\", \"original\", \"columns\"))"
   ]
  },
  {
   "cell_type": "code",
   "execution_count": 0,
   "metadata": {
    "application/vnd.databricks.v1+cell": {
     "cellMetadata": {
      "byteLimit": 2048000,
      "rowLimit": 10000
     },
     "inputWidgets": {},
     "nuid": "0c60bfb2-8f21-450f-95a1-9176157b95a7",
     "showTitle": true,
     "tableResultSettingsMap": {},
     "title": "Convert Components into Dataframe"
    }
   },
   "outputs": [],
   "source": [
    "converted_df = convert_and_get_dataframe(\n",
    "    query_string, endpoint_name=\"databricks-claude-3-7-sonnet\", extract_columns_flag=True, test_mode=True, target_table=\"users.paul_signorelli.sql_parsing_log\"\n",
    ")\n",
    "# display(\n",
    "#     converted_df.select(\"name\", \"original\", \"columns\", \"converted\", \"converted_columns\", \"response_error\", \"status\")\n",
    "# )"
   ]
  },
  {
   "cell_type": "code",
   "execution_count": 0,
   "metadata": {
    "application/vnd.databricks.v1+cell": {
     "cellMetadata": {
      "byteLimit": 2048000,
      "implicitDf": true,
      "rowLimit": 10000
     },
     "inputWidgets": {},
     "nuid": "c872f87c-23e3-498d-862e-11cb01204536",
     "showTitle": true,
     "tableResultSettingsMap": {},
     "title": "View parser log"
    }
   },
   "outputs": [],
   "source": [
    "%sql\n",
    "select * from users.paul_signorelli.sql_parsing_log;"
   ]
  },
  {
   "cell_type": "code",
   "execution_count": 0,
   "metadata": {
    "application/vnd.databricks.v1+cell": {
     "cellMetadata": {
      "byteLimit": 2048000,
      "rowLimit": 10000
     },
     "inputWidgets": {},
     "nuid": "81d68dc5-8f6d-466c-838a-ae92e8caa0c5",
     "showTitle": true,
     "tableResultSettingsMap": {},
     "title": "Assemble Final Query (main)"
    }
   },
   "outputs": [],
   "source": [
    "assembled_df = assemble_final_query(converted_df, target_table=\"users.paul_signorelli.sql_parsing_log\")"
   ]
  },
  {
   "cell_type": "code",
   "execution_count": 0,
   "metadata": {
    "application/vnd.databricks.v1+cell": {
     "cellMetadata": {
      "byteLimit": 2048000,
      "implicitDf": true,
      "rowLimit": 10000
     },
     "inputWidgets": {},
     "nuid": "b155195b-2c37-4993-8c07-dee971b92b93",
     "showTitle": true,
     "tableResultSettingsMap": {},
     "title": "View parser log"
    }
   },
   "outputs": [],
   "source": [
    "%sql\n",
    "select * from users.paul_signorelli.sql_parsing_log;"
   ]
  },
  {
   "cell_type": "code",
   "execution_count": 0,
   "metadata": {
    "application/vnd.databricks.v1+cell": {
     "cellMetadata": {
      "byteLimit": 2048000,
      "rowLimit": 10000
     },
     "inputWidgets": {},
     "nuid": "132ee2db-1b5b-4cca-aa70-6d4ef74ff8d6",
     "showTitle": true,
     "tableResultSettingsMap": {},
     "title": "Show Prettified Final"
    }
   },
   "outputs": [],
   "source": [
    "prettified_value = prettify_final(get_main(assembled_df))\n",
    "print(prettified_value)"
   ]
  }
 ],
 "metadata": {
  "application/vnd.databricks.v1+notebook": {
   "computePreferences": null,
   "dashboards": [],
   "environmentMetadata": {
    "base_environment": "",
    "environment_version": "2"
   },
   "inputWidgetPreferences": null,
   "language": "python",
   "notebookMetadata": {
    "mostRecentlyExecutedCommandWithImplicitDF": {
     "commandId": 3397375242277781,
     "dataframes": [
      "_sqldf"
     ]
    },
    "pythonIndentUnit": 4
   },
   "notebookName": "union-all",
   "widgets": {}
  },
  "language_info": {
   "name": "python"
  }
 },
 "nbformat": 4,
 "nbformat_minor": 0
}

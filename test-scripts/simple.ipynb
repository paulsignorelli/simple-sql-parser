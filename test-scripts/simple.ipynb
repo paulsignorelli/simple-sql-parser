{
 "cells": [
  {
   "cell_type": "code",
   "execution_count": 0,
   "metadata": {
    "application/vnd.databricks.v1+cell": {
     "cellMetadata": {
      "byteLimit": 2048000,
      "rowLimit": 10000
     },
     "inputWidgets": {},
     "nuid": "1170ec53-2681-4be0-aeca-ddaf0637d1b8",
     "showTitle": false,
     "tableResultSettingsMap": {},
     "title": ""
    }
   },
   "outputs": [],
   "source": [
    "%run ../parse_sql"
   ]
  },
  {
   "cell_type": "code",
   "execution_count": 0,
   "metadata": {
    "application/vnd.databricks.v1+cell": {
     "cellMetadata": {
      "byteLimit": 2048000,
      "rowLimit": 10000
     },
     "inputWidgets": {},
     "nuid": "1e4d8130-8d85-4a0e-8e28-dd3a4bdc3e49",
     "showTitle": true,
     "tableResultSettingsMap": {},
     "title": "Simple Test"
    }
   },
   "outputs": [],
   "source": [
    "# Demo\n",
    "sql_query = \"\"\"\n",
    "/* change log - abcdabcdabcdabcdabcdabcdabcdabcdabcdabcdabcdabcdabcdabcdabcdabcdabcdabcdabcd\n",
    "abcdabcdabcdabcdabcdabcdabcdabcdabcdabcdabcdabcdabcdabcdabcdabcdabcdabcdabcdabcdabcdabcdabcdabcd\n",
    "abcdabcdabcdabcdabcdabcdabcdabcdabcdabcdabcdabcdabcdabcdabcdabcdabcdabcdabcdabcdabcdabcdabcdabcdabcd\n",
    "abcdabcdabcdabcdabcdabcd */\n",
    "with cte1 as (\n",
    "    select cust_id, sum(sales) as sales_sum \n",
    "    from orders\n",
    "    group by cust_id\n",
    "),\n",
    "cte2 as (\n",
    "    select cust_id, sum(expenses) as expenses\n",
    "    from expenses\n",
    "    group by cust_id\n",
    ")\n",
    "select cust_id, sales_sum, expenses\n",
    "from cte1\n",
    "inner join cte2 on cte1.cust_id = cte2.cust_id\n",
    "where cte1.cust_id in (select cust_id from customer_region where region = 'USA')\n",
    "and exists (select 1 from sales_person_region where region = 'NYC')\n",
    "\"\"\"\n",
    "\n",
    "print_full_queries(sql_query)\n"
   ]
  },
  {
   "cell_type": "code",
   "execution_count": 0,
   "metadata": {
    "application/vnd.databricks.v1+cell": {
     "cellMetadata": {
      "byteLimit": 2048000,
      "rowLimit": 10000
     },
     "inputWidgets": {},
     "nuid": "9f7a1c1a-28b5-4e85-8e2a-7dc38f950544",
     "showTitle": true,
     "tableResultSettingsMap": {},
     "title": "Convert Components into Dataframe"
    }
   },
   "outputs": [],
   "source": [
    "converted_df = convert_and_get_dataframe(sql_query)\n",
    "display(converted_df.select(\"name\", \"original\", \"converted\"))"
   ]
  },
  {
   "cell_type": "code",
   "execution_count": 0,
   "metadata": {
    "application/vnd.databricks.v1+cell": {
     "cellMetadata": {
      "byteLimit": 2048000,
      "rowLimit": 10000
     },
     "inputWidgets": {},
     "nuid": "0b2e5992-2612-4c6e-b889-d729a0d93c57",
     "showTitle": true,
     "tableResultSettingsMap": {},
     "title": "Assemble Final Query (main)"
    }
   },
   "outputs": [],
   "source": [
    "display(assemble_final_query(converted_df.select(\"name\", \"original\", \"converted\")))"
   ]
  },
  {
   "cell_type": "code",
   "execution_count": 0,
   "metadata": {
    "application/vnd.databricks.v1+cell": {
     "cellMetadata": {
      "byteLimit": 2048000,
      "rowLimit": 10000
     },
     "inputWidgets": {},
     "nuid": "22346ecd-f916-4680-92c3-7e45e1c4b6f2",
     "showTitle": true,
     "tableResultSettingsMap": {},
     "title": "Show Prettified Final"
    }
   },
   "outputs": [],
   "source": [
    "prettified_value = prettify_final(assemble_final_query(converted_df.select(\"name\", \"original\", \"converted\")))\n",
    "print(prettified_value)"
   ]
  }
 ],
 "metadata": {
  "application/vnd.databricks.v1+notebook": {
   "computePreferences": null,
   "dashboards": [],
   "environmentMetadata": {
    "base_environment": "",
    "environment_version": "2"
   },
   "inputWidgetPreferences": null,
   "language": "python",
   "notebookMetadata": {
    "pythonIndentUnit": 4
   },
   "notebookName": "simple",
   "widgets": {}
  },
  "language_info": {
   "name": "python"
  }
 },
 "nbformat": 4,
 "nbformat_minor": 0
}

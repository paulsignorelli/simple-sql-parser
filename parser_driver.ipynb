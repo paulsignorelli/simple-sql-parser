{
 "cells": [
  {
   "cell_type": "markdown",
   "metadata": {
    "application/vnd.databricks.v1+cell": {
     "cellMetadata": {},
     "inputWidgets": {},
     "nuid": "47cc83ec-77b9-4d78-9144-ed03ac825cf8",
     "showTitle": false,
     "tableResultSettingsMap": {},
     "title": ""
    }
   },
   "source": [
    "###Parser Driver\n",
    "\n",
    "To run this driver use <b>dbutils.notebook.run</b> with the following parameters:\n",
    "<p>\n",
    "\n",
    "```\n",
    "dbutils.notebook.run(\n",
    "    \"../parser_driver\", \n",
    "    0, \n",
    "    {\n",
    "        \"sql\": \"<query string>\", \n",
    "        \"endpoint\": \"<name of llm endpoint>\",\n",
    "        \"parse_log_table\": \"<full namespace of table to write results to>\",\n",
    "        \"column_chunk_size\": \"<number of columns per chunk>\",\n",
    "        \"total_stages\": <total number of states (1,2, or 3)>\n",
    "    }\n",
    ")\n",
    "```\n",
    "\n",
    "##### Stages\n",
    "- Stage 1 - Parse all of the sql\n",
    "- Stage 2 - Parse all of the sql and convert it with the LLM\n",
    "- State 3 - Parse all of the sql,  convert it with the LLM, and reassemble it to a final query\n",
    "\n",
    "##### Parse Log Table\n",
    "Leave the parse log table as an empty string if you don't want to write results to a table, although this is <b>highly</b> recommended.  To get thew final parsed sql you can read it from the variable: <b>pretty_final</b> which gets set in stage 3.  That value is written into a cell below when the driver is run (<b>if statge 3 is run</b>).  The last row of the dataframe will also have the final_query in it."
   ]
  },
  {
   "cell_type": "code",
   "execution_count": 0,
   "metadata": {
    "application/vnd.databricks.v1+cell": {
     "cellMetadata": {
      "byteLimit": 2048000,
      "rowLimit": 10000
     },
     "inputWidgets": {},
     "nuid": "e952b1f2-7762-4669-82f7-72f8034aeb0d",
     "showTitle": true,
     "tableResultSettingsMap": {},
     "title": "Parser Module"
    }
   },
   "outputs": [],
   "source": [
    "%run ./sql_parser"
   ]
  },
  {
   "cell_type": "code",
   "execution_count": 0,
   "metadata": {
    "application/vnd.databricks.v1+cell": {
     "cellMetadata": {
      "byteLimit": 2048000,
      "rowLimit": 10000
     },
     "inputWidgets": {},
     "nuid": "5043be48-c368-4958-ada9-540d10c45f24",
     "showTitle": true,
     "tableResultSettingsMap": {},
     "title": "Default SQL"
    }
   },
   "outputs": [],
   "source": [
    "# Example usage\n",
    "default_sql = \"\"\"\n",
    "    SELECT\n",
    "        e.EmployeeID,\n",
    "        UPPER(e.Name) AS Name,\n",
    "        d.Name AS Department,\n",
    "        CASE\n",
    "            WHEN e.Salary > (\n",
    "                SELECT AVG(Salary)\n",
    "                FROM Employees\n",
    "                WHERE DepartmentID = e.DepartmentID\n",
    "            ) THEN CONCAT('Above Average (', CAST(e.Salary AS VARCHAR), ')')\n",
    "            ELSE 'Average or Below'\n",
    "        END AS SalaryStatus,\n",
    "        CASE\n",
    "            WHEN rsm.investment_type = 'BL'\n",
    "                AND NVL (psah.acrd_cd, 'N') NOT IN ('Y', 'V')\n",
    "            THEN NVL (\n",
    "                (SELECT wacoupon\n",
    "                   FROM stg_wso_pos_acr_ame\n",
    "                  WHERE portfolio_fund_id = psah.cal_dt\n",
    "                        AND asofdate = psah.cal_dt\n",
    "                        AND asset_primaryud = psah.asset_id\n",
    "                        AND rec_typ_cd = 'POS'),\n",
    "                0)\n",
    "            ELSE psah.int_rt\n",
    "        END AS pos_int_it,\n",
    "        ep.ProjectsCompleted,\n",
    "        YEAR(e.HireDate) AS HireYear,\n",
    "        MONTH(e.HireDate) AS HireMonth\n",
    "    FROM\n",
    "        Employees e\n",
    "        JOIN Departments d ON e.DepartmentID = d.DepartmentID\n",
    "        LEFT JOIN EmpProjects ep ON e.EmployeeID = ep.EmployeeID\n",
    "    WHERE\n",
    "        e.EmployeeID IN (\n",
    "            SELECT\n",
    "                e2.EmployeeID\n",
    "            FROM\n",
    "                Employees e2\n",
    "                JOIN Departments d2 ON e2.DepartmentID = d2.DepartmentID\n",
    "                LEFT JOIN EmpProjects ep2 ON e2.EmployeeID = ep2.EmployeeID\n",
    "            WHERE\n",
    "                e2.Salary > (\n",
    "                    SELECT AVG(Salary)\n",
    "                    FROM Employees\n",
    "                    WHERE DepartmentID = e2.DepartmentID\n",
    "                )\n",
    "        )\n",
    "    \"\"\""
   ]
  },
  {
   "cell_type": "code",
   "execution_count": 0,
   "metadata": {
    "application/vnd.databricks.v1+cell": {
     "cellMetadata": {
      "byteLimit": 2048000,
      "rowLimit": 10000
     },
     "inputWidgets": {},
     "nuid": "8c7c07d2-68b2-461c-8828-69514aa246dc",
     "showTitle": true,
     "tableResultSettingsMap": {},
     "title": "Define Parameters"
    }
   },
   "outputs": [],
   "source": [
    "dbutils.widgets.text(\"sql\", default_sql)\n",
    "dbutils.widgets.text(\"endpoint\", \"databricks-claude-sonnet-4\")\n",
    "dbutils.widgets.text(\"parse_log_table\", \"users.paul_signorelli.sql_parsing_log\")\n",
    "dbutils.widgets.text(\"column_chunk_size\", \"5\")\n",
    "dbutils.widgets.text(\"total_stages\", \"3\")"
   ]
  },
  {
   "cell_type": "code",
   "execution_count": 0,
   "metadata": {
    "application/vnd.databricks.v1+cell": {
     "cellMetadata": {
      "byteLimit": 2048000,
      "rowLimit": 10000
     },
     "inputWidgets": {},
     "nuid": "3197e82d-375a-4fcb-8995-b7d5f2c68e2e",
     "showTitle": true,
     "tableResultSettingsMap": {},
     "title": "Retrieve Paramters"
    }
   },
   "outputs": [],
   "source": [
    "sql = dbutils.widgets.get(\"sql\") \n",
    "endpoint = dbutils.widgets.get(\"endpoint\") \n",
    "parse_log_table = dbutils.widgets.get(\"parse_log_table\")\n",
    "column_chunk_size = int(dbutils.widgets.get(\"column_chunk_size\"))\n",
    "total_stages = int(dbutils.widgets.get(\"total_stages\"))"
   ]
  },
  {
   "cell_type": "code",
   "execution_count": 0,
   "metadata": {
    "application/vnd.databricks.v1+cell": {
     "cellMetadata": {},
     "inputWidgets": {},
     "nuid": "5e8670c5-80a1-4cf5-8e07-1eba69098089",
     "showTitle": true,
     "tableResultSettingsMap": {},
     "title": "SQL Being Converted"
    }
   },
   "outputs": [],
   "source": [
    "print(sql)"
   ]
  },
  {
   "cell_type": "code",
   "execution_count": 0,
   "metadata": {
    "application/vnd.databricks.v1+cell": {
     "cellMetadata": {
      "byteLimit": 2048000,
      "rowLimit": 10000
     },
     "inputWidgets": {},
     "nuid": "600df729-e340-4588-8b00-3c6e7f0a2ac1",
     "showTitle": true,
     "tableResultSettingsMap": {},
     "title": "Stage 1 - Parse SQL"
    }
   },
   "outputs": [],
   "source": [
    "def stage1():\n",
    "  initialize_empty_subquery_delta_table(table_name=parse_log_table)\n",
    "  spark_df = subqueries_to_spark_dataframe(sql)\n",
    "  spark_df_with_columns = extract_columns_and_replace_select(spark_df)\n",
    "  write_subqueries_to_delta(spark_df_with_columns, table_name=parse_log_table)\n",
    "  \n",
    "  return spark_df_with_columns\n"
   ]
  },
  {
   "cell_type": "code",
   "execution_count": 0,
   "metadata": {
    "application/vnd.databricks.v1+cell": {
     "cellMetadata": {
      "byteLimit": 2048000,
      "rowLimit": 10000
     },
     "inputWidgets": {},
     "nuid": "d820c42c-819b-4dc3-bb91-19f9143edd22",
     "showTitle": true,
     "tableResultSettingsMap": {},
     "title": "Sate 2 - Stage 1 plus Conversion"
    }
   },
   "outputs": [],
   "source": [
    "def stage2(spark_df_with_columns):\n",
    "  spark_df_converted = convert_sql(spark_df_with_columns, endpoint_name=endpoint)\n",
    "  write_subqueries_to_delta(spark_df_converted, table_name=parse_log_table)\n",
    "\n",
    "  return spark_df_converted\n"
   ]
  },
  {
   "cell_type": "code",
   "execution_count": 0,
   "metadata": {
    "application/vnd.databricks.v1+cell": {
     "cellMetadata": {
      "byteLimit": 2048000,
      "rowLimit": 10000
     },
     "inputWidgets": {},
     "nuid": "d8eaf54e-b618-425a-96eb-6bce75bd93e9",
     "showTitle": true,
     "tableResultSettingsMap": {},
     "title": "Stage 3 - State 3 plus Final Query Assembly"
    }
   },
   "outputs": [],
   "source": [
    "def stage3(spark_df_converted):\n",
    "  spark_df_with_converted_columns = convert_sql_on_columns(spark_df_converted, chunk_size=column_chunk_size, endpoint_name=endpoint)\n",
    "  write_subqueries_to_delta(spark_df_with_converted_columns, table_name=parse_log_table)\n",
    "  \n",
    "  return spark_df_with_converted_columns\n"
   ]
  },
  {
   "cell_type": "code",
   "execution_count": 0,
   "metadata": {
    "application/vnd.databricks.v1+cell": {
     "cellMetadata": {
      "byteLimit": 2048000,
      "rowLimit": 10000
     },
     "inputWidgets": {},
     "nuid": "51ed9e91-56d3-468f-9e63-3156173bdc21",
     "showTitle": true,
     "tableResultSettingsMap": {},
     "title": "Run Stage"
    }
   },
   "outputs": [],
   "source": [
    "if total_stages == 1:\n",
    "  spark_df_with_columns = stage1()\n",
    "  print(\"\\n✅ Parsed subqueries\\n\")\n",
    "  write_subqueries_to_delta(spark_df_with_columns, table_name=parse_log_table)\n",
    "\n",
    "if total_stages == 2:\n",
    "  spark_df_with_columns = stage1()\n",
    "  spark_df_converted = stage2(spark_df_with_columns)\n",
    "  print(\"\\n✅ Coverted subqueries\\n\")\n",
    "  write_subqueries_to_delta(spark_df_converted, table_name=parse_log_table)\n",
    "\n",
    "if total_stages >= 3:\n",
    "  spark_df_with_columns = stage1()\n",
    "  spark_df_converted = stage2(spark_df_with_columns)\n",
    "  spark_df_with_converted_columns = stage3(spark_df_converted)\n",
    "  \n",
    "  final_query = assemble_final_query_string(spark_df_with_converted_columns)\n",
    "  \n",
    "  pretty_final = prettify_final(final_query)\n",
    "  df_final = append_final_query_row(spark_df_with_converted_columns, pretty_final)\n",
    "  write_subqueries_to_delta(df_final, table_name=parse_log_table)"
   ]
  },
  {
   "cell_type": "code",
   "execution_count": 0,
   "metadata": {
    "application/vnd.databricks.v1+cell": {
     "cellMetadata": {},
     "inputWidgets": {},
     "nuid": "33326d30-494e-4610-aeed-f7dc552a9c3d",
     "showTitle": true,
     "tableResultSettingsMap": {},
     "title": "Print Final Assembled SQL"
    }
   },
   "outputs": [],
   "source": [
    "# NOTE: This might not exists if stage 3 was not run\n",
    "\n",
    "try:\n",
    "  print(f\"✅ Reassembled Final Query:\\n\\n{pretty_final}\")\n",
    "except Exception:\n",
    "  pass"
   ]
  },
  {
   "cell_type": "code",
   "execution_count": 0,
   "metadata": {
    "application/vnd.databricks.v1+cell": {
     "cellMetadata": {
      "byteLimit": 2048000,
      "rowLimit": 10000
     },
     "inputWidgets": {},
     "nuid": "98567b8a-977c-4932-9977-09e1e5ae8f37",
     "showTitle": true,
     "tableResultSettingsMap": {
      "0": {
       "dataGridStateBlob": "{\"version\":1,\"tableState\":{\"columnPinning\":{\"left\":[\"#row_number#\"],\"right\":[]},\"columnSizing\":{},\"columnVisibility\":{}},\"settings\":{\"columns\":{}},\"syncTimestamp\":1752444479325}",
       "filterBlob": null,
       "queryPlanFiltersBlob": null,
       "tableResultIndex": 0
      }
     },
     "title": "Display Parse Log Table"
    }
   },
   "outputs": [],
   "source": [
    "# NOTE: This might fail without proper table permissions or is parse_log_table is blank\n",
    "\n",
    "try:\n",
    "  display(\n",
    "    spark.sql(f\"select * from {parse_log_table}\")\n",
    "  )\n",
    "except Exception:\n",
    "  pass"
   ]
  }
 ],
 "metadata": {
  "application/vnd.databricks.v1+notebook": {
   "computePreferences": null,
   "dashboards": [],
   "environmentMetadata": {
    "base_environment": "dbe_c75093c8-0895-475e-8c1b-6acacfe3368b",
    "environment_version": "2"
   },
   "inputWidgetPreferences": null,
   "language": "python",
   "notebookMetadata": {
    "mostRecentlyExecutedCommandWithImplicitDF": {
     "commandId": 1938256853172048,
     "dataframes": [
      "_sqldf"
     ]
    },
    "pythonIndentUnit": 2
   },
   "notebookName": "parser_driver",
   "widgets": {
    "column_chunk_size": {
     "currentValue": "5",
     "nuid": "89f10e1c-9913-41fa-b1d2-cfaef4338c72",
     "typedWidgetInfo": {
      "autoCreated": false,
      "defaultValue": "5",
      "label": null,
      "name": "column_chunk_size",
      "options": {
       "widgetDisplayType": "Text",
       "validationRegex": null
      },
      "parameterDataType": "String"
     },
     "widgetInfo": {
      "widgetType": "text",
      "defaultValue": "5",
      "label": null,
      "name": "column_chunk_size",
      "options": {
       "widgetType": "text",
       "autoCreated": null,
       "validationRegex": null
      }
     }
    },
    "endpoint": {
     "currentValue": "",
     "nuid": "15b11d29-c6a9-4162-8475-3f7f3cf28a1d",
     "typedWidgetInfo": {
      "autoCreated": false,
      "defaultValue": "databricks-claude-sonnet-4",
      "label": null,
      "name": "endpoint",
      "options": {
       "widgetDisplayType": "Text",
       "validationRegex": null
      },
      "parameterDataType": "String"
     },
     "widgetInfo": {
      "widgetType": "text",
      "defaultValue": "databricks-claude-sonnet-4",
      "label": null,
      "name": "endpoint",
      "options": {
       "widgetType": "text",
       "autoCreated": null,
       "validationRegex": null
      }
     }
    },
    "parse_log_table": {
     "currentValue": "users.paul_signorelli.sql_parsing_log",
     "nuid": "105de304-d57f-40ac-8efa-8ec008d0f872",
     "typedWidgetInfo": {
      "autoCreated": false,
      "defaultValue": "users.paul_signorelli.sql_parsing_log",
      "label": null,
      "name": "parse_log_table",
      "options": {
       "widgetDisplayType": "Text",
       "validationRegex": null
      },
      "parameterDataType": "String"
     },
     "widgetInfo": {
      "widgetType": "text",
      "defaultValue": "users.paul_signorelli.sql_parsing_log",
      "label": null,
      "name": "parse_log_table",
      "options": {
       "widgetType": "text",
       "autoCreated": null,
       "validationRegex": null
      }
     }
    },
    "sql": {
     "currentValue": "\n    SELECT\n        e.EmployeeID,\n        UPPER(e.Name) AS Name,\n        d.Name AS Department,\n        CASE\n            WHEN e.Salary > (\n                SELECT AVG(Salary)\n                FROM Employees\n                WHERE DepartmentID = e.DepartmentID\n            ) THEN CONCAT('Above Average (', CAST(e.Salary AS VARCHAR), ')')\n            ELSE 'Average or Below'\n        END AS SalaryStatus,\n        CASE\n            WHEN rsm.investment_type = 'BL'\n                AND NVL (psah.acrd_cd, 'N') NOT IN ('Y', 'V')\n            THEN NVL (\n                (SELECT wacoupon\n                   FROM stg_wso_pos_acr_ame\n                  WHERE portfolio_fund_id = psah.cal_dt\n                        AND asofdate = psah.cal_dt\n                        AND asset_primaryud = psah.asset_id\n                        AND rec_typ_cd = 'POS'),\n                0)\n            ELSE psah.int_rt\n        END AS pos_int_it,\n        ep.ProjectsCompleted,\n        YEAR(e.HireDate) AS HireYear,\n        MONTH(e.HireDate) AS HireMonth\n    FROM\n        Employees e\n        JOIN Departments d ON e.DepartmentID = d.DepartmentID\n        LEFT JOIN EmpProjects ep ON e.EmployeeID = ep.EmployeeID\n    WHERE\n        e.EmployeeID IN (\n            SELECT\n                e2.EmployeeID\n            FROM\n                Employees e2\n                JOIN Departments d2 ON e2.DepartmentID = d2.DepartmentID\n                LEFT JOIN EmpProjects ep2 ON e2.EmployeeID = ep2.EmployeeID\n            WHERE\n                e2.Salary > (\n                    SELECT AVG(Salary)\n                    FROM Employees\n                    WHERE DepartmentID = e2.DepartmentID\n                )\n        )\n    ",
     "nuid": "d1baba06-7109-4393-adfd-6b05ce2c7ffd",
     "typedWidgetInfo": {
      "autoCreated": false,
      "defaultValue": "\n    SELECT\n        e.EmployeeID,\n        UPPER(e.Name) AS Name,\n        d.Name AS Department,\n        CASE\n            WHEN e.Salary > (\n                SELECT AVG(Salary)\n                FROM Employees\n                WHERE DepartmentID = e.DepartmentID\n            ) THEN CONCAT('Above Average (', CAST(e.Salary AS VARCHAR), ')')\n            ELSE 'Average or Below'\n        END AS SalaryStatus,\n        CASE\n            WHEN rsm.investment_type = 'BL'\n                AND NVL (psah.acrd_cd, 'N') NOT IN ('Y', 'V')\n            THEN NVL (\n                (SELECT wacoupon\n                   FROM stg_wso_pos_acr_ame\n                  WHERE portfolio_fund_id = psah.cal_dt\n                        AND asofdate = psah.cal_dt\n                        AND asset_primaryud = psah.asset_id\n                        AND rec_typ_cd = 'POS'),\n                0)\n            ELSE psah.int_rt\n        END AS pos_int_it,\n        ep.ProjectsCompleted,\n        YEAR(e.HireDate) AS HireYear,\n        MONTH(e.HireDate) AS HireMonth\n    FROM\n        Employees e\n        JOIN Departments d ON e.DepartmentID = d.DepartmentID\n        LEFT JOIN EmpProjects ep ON e.EmployeeID = ep.EmployeeID\n    WHERE\n        e.EmployeeID IN (\n            SELECT\n                e2.EmployeeID\n            FROM\n                Employees e2\n                JOIN Departments d2 ON e2.DepartmentID = d2.DepartmentID\n                LEFT JOIN EmpProjects ep2 ON e2.EmployeeID = ep2.EmployeeID\n            WHERE\n                e2.Salary > (\n                    SELECT AVG(Salary)\n                    FROM Employees\n                    WHERE DepartmentID = e2.DepartmentID\n                )\n        )\n    ",
      "label": null,
      "name": "sql",
      "options": {
       "widgetDisplayType": "Text",
       "validationRegex": null
      },
      "parameterDataType": "String"
     },
     "widgetInfo": {
      "widgetType": "text",
      "defaultValue": "\n    SELECT\n        e.EmployeeID,\n        UPPER(e.Name) AS Name,\n        d.Name AS Department,\n        CASE\n            WHEN e.Salary > (\n                SELECT AVG(Salary)\n                FROM Employees\n                WHERE DepartmentID = e.DepartmentID\n            ) THEN CONCAT('Above Average (', CAST(e.Salary AS VARCHAR), ')')\n            ELSE 'Average or Below'\n        END AS SalaryStatus,\n        CASE\n            WHEN rsm.investment_type = 'BL'\n                AND NVL (psah.acrd_cd, 'N') NOT IN ('Y', 'V')\n            THEN NVL (\n                (SELECT wacoupon\n                   FROM stg_wso_pos_acr_ame\n                  WHERE portfolio_fund_id = psah.cal_dt\n                        AND asofdate = psah.cal_dt\n                        AND asset_primaryud = psah.asset_id\n                        AND rec_typ_cd = 'POS'),\n                0)\n            ELSE psah.int_rt\n        END AS pos_int_it,\n        ep.ProjectsCompleted,\n        YEAR(e.HireDate) AS HireYear,\n        MONTH(e.HireDate) AS HireMonth\n    FROM\n        Employees e\n        JOIN Departments d ON e.DepartmentID = d.DepartmentID\n        LEFT JOIN EmpProjects ep ON e.EmployeeID = ep.EmployeeID\n    WHERE\n        e.EmployeeID IN (\n            SELECT\n                e2.EmployeeID\n            FROM\n                Employees e2\n                JOIN Departments d2 ON e2.DepartmentID = d2.DepartmentID\n                LEFT JOIN EmpProjects ep2 ON e2.EmployeeID = ep2.EmployeeID\n            WHERE\n                e2.Salary > (\n                    SELECT AVG(Salary)\n                    FROM Employees\n                    WHERE DepartmentID = e2.DepartmentID\n                )\n        )\n    ",
      "label": null,
      "name": "sql",
      "options": {
       "widgetType": "text",
       "autoCreated": null,
       "validationRegex": null
      }
     }
    },
    "total_stages": {
     "currentValue": "3",
     "nuid": "3cdc6f5c-caea-4719-b8b6-d7b9424b5a58",
     "typedWidgetInfo": {
      "autoCreated": false,
      "defaultValue": "3",
      "label": null,
      "name": "total_stages",
      "options": {
       "widgetDisplayType": "Text",
       "validationRegex": null
      },
      "parameterDataType": "String"
     },
     "widgetInfo": {
      "widgetType": "text",
      "defaultValue": "3",
      "label": null,
      "name": "total_stages",
      "options": {
       "widgetType": "text",
       "autoCreated": null,
       "validationRegex": null
      }
     }
    }
   }
  },
  "language_info": {
   "name": "python"
  }
 },
 "nbformat": 4,
 "nbformat_minor": 0
}
